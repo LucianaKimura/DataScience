{
  "nbformat": 4,
  "nbformat_minor": 0,
  "metadata": {
    "colab": {
      "name": "Credito_Algorithms_NB.ipynb",
      "provenance": [],
      "mount_file_id": "1d1UGyOM2T2j5aKmVeu0-MkfNzhqqGWn7",
      "authorship_tag": "ABX9TyM84Jz7pP8wQ3X1kPiHesrc",
      "include_colab_link": true
    },
    "kernelspec": {
      "name": "python3",
      "display_name": "Python 3"
    },
    "language_info": {
      "name": "python"
    }
  },
  "cells": [
    {
      "cell_type": "markdown",
      "metadata": {
        "id": "view-in-github",
        "colab_type": "text"
      },
      "source": [
        "<a href=\"https://colab.research.google.com/github/LucianaKimura/DataScience/blob/main/Credito_Algorithms_NB.ipynb\" target=\"_parent\"><img src=\"https://colab.research.google.com/assets/colab-badge.svg\" alt=\"Open In Colab\"/></a>"
      ]
    },
    {
      "cell_type": "markdown",
      "source": [
        "# Algorithms Machine Learning"
      ],
      "metadata": {
        "id": "Y7GmyK4wCqpi"
      }
    },
    {
      "cell_type": "code",
      "execution_count": 2,
      "metadata": {
        "colab": {
          "base_uri": "https://localhost:8080/"
        },
        "id": "_dj5tZ3dCkcY",
        "outputId": "db0ebec0-f11b-4366-8117-f3bce822dc31"
      },
      "outputs": [
        {
          "output_type": "stream",
          "name": "stdout",
          "text": [
            "Requirement already satisfied: plotly in /usr/local/lib/python3.7/dist-packages (4.4.1)\n",
            "Collecting plotly\n",
            "  Downloading plotly-5.5.0-py2.py3-none-any.whl (26.5 MB)\n",
            "\u001b[K     |████████████████████████████████| 26.5 MB 1.2 MB/s \n",
            "\u001b[?25hRequirement already satisfied: six in /usr/local/lib/python3.7/dist-packages (from plotly) (1.15.0)\n",
            "Collecting tenacity>=6.2.0\n",
            "  Downloading tenacity-8.0.1-py3-none-any.whl (24 kB)\n",
            "Installing collected packages: tenacity, plotly\n",
            "  Attempting uninstall: plotly\n",
            "    Found existing installation: plotly 4.4.1\n",
            "    Uninstalling plotly-4.4.1:\n",
            "      Successfully uninstalled plotly-4.4.1\n",
            "Successfully installed plotly-5.5.0 tenacity-8.0.1\n"
          ]
        }
      ],
      "source": [
        "!pip install plotly --upgrade"
      ]
    },
    {
      "cell_type": "code",
      "source": [
        "import pandas as pd\n",
        "import numpy as np\n",
        "import seaborn as sns\n",
        "import matplotlib.pyplot as plt\n",
        "import plotly.express as px"
      ],
      "metadata": {
        "id": "ZyLyyNO8C-1S"
      },
      "execution_count": 3,
      "outputs": []
    },
    {
      "cell_type": "code",
      "source": [
        "X_credit = pd.read_csv('/content/drive/MyDrive/Colab Notebooks/Dados Pre-Processados/X_Credit.csv')"
      ],
      "metadata": {
        "id": "59TWX7IsDGjN"
      },
      "execution_count": 55,
      "outputs": []
    },
    {
      "cell_type": "code",
      "source": [
        "Y_credit = pd.read_csv('/content/drive/MyDrive/Colab Notebooks/Dados Pre-Processados/Y_Credit.csv')"
      ],
      "metadata": {
        "id": "QpJkkA_HDYbE"
      },
      "execution_count": 57,
      "outputs": []
    },
    {
      "cell_type": "markdown",
      "source": [
        "Importing the pre-processed data. ⬆"
      ],
      "metadata": {
        "id": "aXtwlyyGVHIW"
      }
    },
    {
      "cell_type": "markdown",
      "source": [
        "Getting the data in right shape/format. ⬇"
      ],
      "metadata": {
        "id": "jf2B6ganV6sN"
      }
    },
    {
      "cell_type": "code",
      "source": [
        "X_credit = X_credit.values\n",
        "X_credit"
      ],
      "metadata": {
        "colab": {
          "base_uri": "https://localhost:8080/"
        },
        "id": "8ucMv3rAQX2c",
        "outputId": "66ef31dc-e0df-4b24-865c-2d210edb978b"
      },
      "execution_count": 56,
      "outputs": [
        {
          "output_type": "execute_result",
          "data": {
            "text/plain": [
              "array([[-0.83807391, -0.05741309,  3.40713878, ...,  0.04156784,\n",
              "        -0.65806044, -0.93870999],\n",
              "       [ 1.19321218, -0.05741309, -0.2935014 , ...,  0.60293202,\n",
              "         3.74443294, -0.69176605],\n",
              "       [-0.83807391, -0.05741309, -0.2935014 , ...,  1.36872361,\n",
              "         3.36975265, -0.93870999],\n",
              "       ...,\n",
              "       [-0.83807391, -0.05741309, -0.2935014 , ..., -0.00710536,\n",
              "         2.71406215,  5.48183253],\n",
              "       [ 1.19321218, -0.05741309, -0.2935014 , ...,  0.15189375,\n",
              "        -0.65806044,  4.98794464],\n",
              "       [-0.83807391, -0.05741309, -0.2935014 , ..., -0.33159332,\n",
              "        -0.18971008,  5.97572041]])"
            ]
          },
          "metadata": {},
          "execution_count": 56
        }
      ]
    },
    {
      "cell_type": "code",
      "source": [
        "Y_credit = Y_credit.values\n",
        "Y_credit"
      ],
      "metadata": {
        "colab": {
          "base_uri": "https://localhost:8080/"
        },
        "id": "v5n7q7zGP8kK",
        "outputId": "6325cc1e-f572-40fb-9736-e5f66988cfbf"
      },
      "execution_count": 58,
      "outputs": [
        {
          "output_type": "execute_result",
          "data": {
            "text/plain": [
              "array([[0.],\n",
              "       [1.],\n",
              "       [1.],\n",
              "       ...,\n",
              "       [1.],\n",
              "       [0.],\n",
              "       [0.]])"
            ]
          },
          "metadata": {},
          "execution_count": 58
        }
      ]
    },
    {
      "cell_type": "code",
      "source": [
        "Y_credit = Y_credit.ravel()"
      ],
      "metadata": {
        "id": "qmEKj6RjRCrD"
      },
      "execution_count": 59,
      "outputs": []
    },
    {
      "cell_type": "code",
      "source": [
        "Y_credit"
      ],
      "metadata": {
        "colab": {
          "base_uri": "https://localhost:8080/"
        },
        "id": "35M3w7llQn9V",
        "outputId": "69c8903f-e4cc-4d7b-ded0-be1d713e22c0"
      },
      "execution_count": 60,
      "outputs": [
        {
          "output_type": "execute_result",
          "data": {
            "text/plain": [
              "array([0., 1., 1., ..., 1., 0., 0.])"
            ]
          },
          "metadata": {},
          "execution_count": 60
        }
      ]
    },
    {
      "cell_type": "markdown",
      "source": [
        "✋ Importing the train_test_split to divide the DB between a training data set and a test data set. ⬇ "
      ],
      "metadata": {
        "id": "rf_OJqewg4Tw"
      }
    },
    {
      "cell_type": "code",
      "source": [
        "from sklearn.model_selection import train_test_split"
      ],
      "metadata": {
        "id": "UUrslSkIDs5s"
      },
      "execution_count": 6,
      "outputs": []
    },
    {
      "cell_type": "code",
      "source": [
        "X_credit_train, X_credit_test, Y_credit_train, Y_credit_test = train_test_split(X_credit, Y_credit, test_size = 0.25, random_state = 0)"
      ],
      "metadata": {
        "id": "LlE6xCmCD36X"
      },
      "execution_count": 31,
      "outputs": []
    },
    {
      "cell_type": "markdown",
      "source": [
        "The random_state must be defined as any given number to assure that the same data will be generated every time, so the test can be redone."
      ],
      "metadata": {
        "id": "gjMbw8aOhJcN"
      }
    },
    {
      "cell_type": "code",
      "source": [
        "X_credit_train.shape"
      ],
      "metadata": {
        "colab": {
          "base_uri": "https://localhost:8080/"
        },
        "id": "ZKjICLN0idJe",
        "outputId": "4bb66ad0-9ad8-4418-e8d4-9770ed79087d"
      },
      "execution_count": 32,
      "outputs": [
        {
          "output_type": "execute_result",
          "data": {
            "text/plain": [
              "(24425, 25)"
            ]
          },
          "metadata": {},
          "execution_count": 32
        }
      ]
    },
    {
      "cell_type": "code",
      "source": [
        "Y_credit_train.shape"
      ],
      "metadata": {
        "colab": {
          "base_uri": "https://localhost:8080/"
        },
        "id": "57DR4itMihb9",
        "outputId": "0d93e54d-a170-4b22-a770-3f5df543ad47"
      },
      "execution_count": 33,
      "outputs": [
        {
          "output_type": "execute_result",
          "data": {
            "text/plain": [
              "(24425,)"
            ]
          },
          "metadata": {},
          "execution_count": 33
        }
      ]
    },
    {
      "cell_type": "markdown",
      "source": [
        "Saving the variables. When we save using pickle the shape and format are kept."
      ],
      "metadata": {
        "id": "K9W7RVyZl70g"
      }
    },
    {
      "cell_type": "code",
      "source": [
        "import pickle"
      ],
      "metadata": {
        "id": "AMDS64R5mBQE"
      },
      "execution_count": 34,
      "outputs": []
    },
    {
      "cell_type": "code",
      "source": [
        "with open('credit.pkl', mode = 'wb') as f:\n",
        "  pickle.dump([X_credit_train, Y_credit_train, X_credit_test, Y_credit_test], f)"
      ],
      "metadata": {
        "id": "vA1gd5KjmCvi"
      },
      "execution_count": 35,
      "outputs": []
    },
    {
      "cell_type": "markdown",
      "source": [
        "The second argument is 'wb'. The w means that you'll be writing to the file, and b refers to binary mode. "
      ],
      "metadata": {
        "id": "HU_R3KDNm2xa"
      }
    },
    {
      "cell_type": "markdown",
      "source": [
        "## Naive Bayes"
      ],
      "metadata": {
        "id": "jZkorCmsoeoR"
      }
    },
    {
      "cell_type": "markdown",
      "source": [
        "- In statistics, naive Bayes classifiers are a family of simple \"probabilistic classifiers\" based on applying Bayes' theorem with strong (naïve) independence assumptions between the features (see Bayes classifier). \n",
        "- Naive Bayes is a simple technique for constructing classifiers: models that assign class labels to problem instances, represented as vectors of feature values, where the class labels are drawn from some finite set. There is not a single algorithm for training such classifiers, but a family of algorithms based on a common principle: all naive Bayes classifiers assume that the value of a particular feature is independent of the value of any other feature, given the class variable. For example, a fruit may be considered to be an apple if it is red, round, and about 10 cm in diameter. A naive Bayes classifier considers each of these features to contribute independently to the probability that this fruit is an apple, regardless of any possible correlations between the color, roundness, and diameter features. \n",
        "  - Source: https://en.wikipedia.org/wiki/Naive_Bayes_classifier\n"
      ],
      "metadata": {
        "id": "jKhFOIzsolfr"
      }
    },
    {
      "cell_type": "markdown",
      "source": [
        "- It uses:\n",
        "  - probability(class)\n",
        "  - probability(each value for the predictors - independent variables)\n",
        "  - combined probability - probability of each class given a value for a predictor.\n",
        "- Multiplying the combined probablity they define the most likely class value (classification) giving the values for the predictors.\n",
        "- Laplace smoothing is a smoothing technique that helps tackle the problem of zero probability in the Naïve Bayes algorithm (if you multiply any probablity by 0 it will not consider the other values). It adds new registers to correct the lack of data."
      ],
      "metadata": {
        "id": "epjo1v-B7T3d"
      }
    },
    {
      "cell_type": "markdown",
      "source": [
        "- Pros\n",
        "  - Fast\n",
        "  - Easy to understand the results\n",
        "  - Works with many dimensions (attributes)\n",
        "  - Good results with small data bases\n",
        "- Con\n",
        "  - Consider the attributes independents - not necessarily true.\n",
        "   "
      ],
      "metadata": {
        "id": "qH_pUhUJDn16"
      }
    },
    {
      "cell_type": "markdown",
      "source": [
        "✋ Importing the library sklearn.naive_bayes to use the tools for the algorithm. ⬇ "
      ],
      "metadata": {
        "id": "o0PkmBVTH2NH"
      }
    },
    {
      "cell_type": "code",
      "source": [
        "from sklearn.naive_bayes import GaussianNB"
      ],
      "metadata": {
        "id": "O0qTrj5yGOFx"
      },
      "execution_count": 36,
      "outputs": []
    },
    {
      "cell_type": "markdown",
      "source": [
        "Gaussian - Normal (most used statistic distribution for regular problems)"
      ],
      "metadata": {
        "id": "8nbU3MQyHC-I"
      }
    },
    {
      "cell_type": "markdown",
      "source": [
        "Reading the variables we have previouly saved. ⬇"
      ],
      "metadata": {
        "id": "9VUVrafBWkm2"
      }
    },
    {
      "cell_type": "code",
      "source": [
        "with open('credit.pkl', mode = 'rb') as f:\n",
        "  X_credit_train, Y_credit_train, X_credit_test, Y_credit_test = pickle.load(f)"
      ],
      "metadata": {
        "id": "CTBmCI26OGGp"
      },
      "execution_count": 37,
      "outputs": []
    },
    {
      "cell_type": "markdown",
      "source": [
        "The second argument is 'rb'. The r means that you'll be reading the file, and b refers to binary mode"
      ],
      "metadata": {
        "id": "SXFWXf0mOdb-"
      }
    },
    {
      "cell_type": "markdown",
      "source": [
        " Training our model with the TRAIN data. ⬇ ✨"
      ],
      "metadata": {
        "id": "_QOVxMAqWt0F"
      }
    },
    {
      "cell_type": "code",
      "source": [
        "nb_credito = GaussianNB()\n",
        "nb_credito.fit(X_credit_train, Y_credit_train)"
      ],
      "metadata": {
        "colab": {
          "base_uri": "https://localhost:8080/"
        },
        "id": "04FACY7JGs_N",
        "outputId": "da780932-5f39-4172-9d36-50b7c7ce9587"
      },
      "execution_count": 38,
      "outputs": [
        {
          "output_type": "execute_result",
          "data": {
            "text/plain": [
              "GaussianNB()"
            ]
          },
          "metadata": {},
          "execution_count": 38
        }
      ]
    },
    {
      "cell_type": "markdown",
      "source": [
        "Using our model to predict the values from our TEST data. ⬇ ⚡"
      ],
      "metadata": {
        "id": "8ShEPc7GXH3E"
      }
    },
    {
      "cell_type": "code",
      "source": [
        "prev = nb_credito.predict(X_credit_test)"
      ],
      "metadata": {
        "id": "0kFnfjDARpOD"
      },
      "execution_count": 39,
      "outputs": []
    },
    {
      "cell_type": "code",
      "source": [
        "prev"
      ],
      "metadata": {
        "colab": {
          "base_uri": "https://localhost:8080/"
        },
        "id": "k7BSudF1RzCm",
        "outputId": "4f38a1f1-2d1d-45ce-d45a-b981081d4d8a"
      },
      "execution_count": 40,
      "outputs": [
        {
          "output_type": "execute_result",
          "data": {
            "text/plain": [
              "array([1., 0., 0., ..., 0., 0., 0.])"
            ]
          },
          "metadata": {},
          "execution_count": 40
        }
      ]
    },
    {
      "cell_type": "code",
      "source": [
        "Y_credit_test"
      ],
      "metadata": {
        "colab": {
          "base_uri": "https://localhost:8080/"
        },
        "id": "KWPWciGWR5np",
        "outputId": "5efec9e7-0a01-4b54-d95e-fc6d8b085d1f"
      },
      "execution_count": 41,
      "outputs": [
        {
          "output_type": "execute_result",
          "data": {
            "text/plain": [
              "array([1., 0., 1., ..., 1., 0., 0.])"
            ]
          },
          "metadata": {},
          "execution_count": 41
        }
      ]
    },
    {
      "cell_type": "markdown",
      "source": [
        "✋ Importing the library sklearn.metrics to use the tools to evaluate the performance of the algorithm. ⬇ "
      ],
      "metadata": {
        "id": "eIN9ZmGeXWo5"
      }
    },
    {
      "cell_type": "code",
      "source": [
        "from sklearn.metrics import accuracy_score, confusion_matrix, classification_report, roc_curve, roc_auc_score"
      ],
      "metadata": {
        "id": "LjmXcPFDSU1f"
      },
      "execution_count": 63,
      "outputs": []
    },
    {
      "cell_type": "code",
      "source": [
        "accuracy_score(Y_credit_test, prev)"
      ],
      "metadata": {
        "colab": {
          "base_uri": "https://localhost:8080/"
        },
        "id": "EDB6XkDdSbFa",
        "outputId": "e38a54d1-4912-4ebd-8ba0-4a6e610d45f3"
      },
      "execution_count": 43,
      "outputs": [
        {
          "output_type": "execute_result",
          "data": {
            "text/plain": [
              "0.8414394497666421"
            ]
          },
          "metadata": {},
          "execution_count": 43
        }
      ]
    },
    {
      "cell_type": "markdown",
      "source": [
        "Accuracy = (# right predictions)/(# all prediction)"
      ],
      "metadata": {
        "id": "-4wNjdbQY_bw"
      }
    },
    {
      "cell_type": "code",
      "source": [
        "confusion_matrix(Y_credit_test, prev)"
      ],
      "metadata": {
        "colab": {
          "base_uri": "https://localhost:8080/"
        },
        "id": "29C9hPeiSpfw",
        "outputId": "24b0ae8b-505f-4890-ca93-90589bc9452a"
      },
      "execution_count": 46,
      "outputs": [
        {
          "output_type": "execute_result",
          "data": {
            "text/plain": [
              "array([[6053,  390],\n",
              "       [ 901,  798]])"
            ]
          },
          "metadata": {},
          "execution_count": 46
        }
      ]
    },
    {
      "cell_type": "markdown",
      "source": [
        "- True Negatives / - False Positives\n",
        "\n",
        "- False Negatives / - True Positives"
      ],
      "metadata": {
        "id": "mS3Rz4C5ZhrA"
      }
    },
    {
      "cell_type": "code",
      "source": [
        "from yellowbrick.classifier import ConfusionMatrix"
      ],
      "metadata": {
        "id": "X-pRz3W8TID2"
      },
      "execution_count": 47,
      "outputs": []
    },
    {
      "cell_type": "code",
      "source": [
        "cm = ConfusionMatrix(nb_credito)\n",
        "cm.fit(X_credit_train, Y_credit_train)\n",
        "cm.score(X_credit_test, Y_credit_test)"
      ],
      "metadata": {
        "colab": {
          "base_uri": "https://localhost:8080/",
          "height": 371
        },
        "id": "kVc873owTRAJ",
        "outputId": "be3a4c67-1d6b-4bc8-f3b1-7ce0f9374758"
      },
      "execution_count": 48,
      "outputs": [
        {
          "output_type": "execute_result",
          "data": {
            "text/plain": [
              "0.8414394497666421"
            ]
          },
          "metadata": {},
          "execution_count": 48
        },
        {
          "output_type": "display_data",
          "data": {
            "image/png": "[encoded data removed]",
            "text/plain": [
              "<Figure size 576x396 with 1 Axes>"
            ]
          },
          "metadata": {}
        }
      ]
    },
    {
      "cell_type": "code",
      "source": [
        "print(classification_report(Y_credit_test, prev))"
      ],
      "metadata": {
        "colab": {
          "base_uri": "https://localhost:8080/"
        },
        "id": "HVaRZCtvTuHV",
        "outputId": "e482809a-ae55-4424-eb44-36e4c89823ce"
      },
      "execution_count": 50,
      "outputs": [
        {
          "output_type": "stream",
          "name": "stdout",
          "text": [
            "              precision    recall  f1-score   support\n",
            "\n",
            "         0.0       0.87      0.94      0.90      6443\n",
            "         1.0       0.67      0.47      0.55      1699\n",
            "\n",
            "    accuracy                           0.84      8142\n",
            "   macro avg       0.77      0.70      0.73      8142\n",
            "weighted avg       0.83      0.84      0.83      8142\n",
            "\n"
          ]
        }
      ]
    },
    {
      "cell_type": "markdown",
      "source": [
        "- precision = True Positives/(True Positives + False Positives)\n",
        "  - Precision is a good measure to determine, when the costs of False Positive is high. For instance, email spam detection. In email spam detection, a false positive means that an email that is non-spam (actual negative) has been identified as spam (predicted spam). The email user might lose important emails if the precision is not high for the spam detection model.\n",
        "- recall = True Positives/(True Positives + False Negatives)\n",
        "  - Recall shall be the model metric we use to select our best model when there is a high cost associated with False Negative. For instance, in fraud detection or sick patient detection. If a fraudulent transaction (Actual Positive) is predicted as non-fraudulent (Predicted Negative), the consequence can be very bad for the bank.\n",
        "- f1-score = 2* (precision*recall)/(precision+recall)\n",
        "  - F1 Score is needed when you want to seek a balance between Precision and Recall. F1 Score might be a better measure to use if we need to seek a balance between Precision and Recall AND there is an uneven class distribution (large number of Actual Negatives).\n",
        "\n",
        "  Source: https://towardsdatascience.com/accuracy-precision-recall-or-f1-331fb37c5cb9"
      ],
      "metadata": {
        "id": "0E4JVDxHbJYm"
      }
    },
    {
      "cell_type": "code",
      "source": [
        "roc_curve(Y_credit_test, prev)"
      ],
      "metadata": {
        "colab": {
          "base_uri": "https://localhost:8080/"
        },
        "id": "GeqI-0L7dfWw",
        "outputId": "ed8372c6-e7be-4f4a-9d7c-efbeccda73d6"
      },
      "execution_count": 62,
      "outputs": [
        {
          "output_type": "execute_result",
          "data": {
            "text/plain": [
              "(array([0.        , 0.06053081, 1.        ]),\n",
              " array([0.        , 0.46968805, 1.        ]),\n",
              " array([2., 1., 0.]))"
            ]
          },
          "metadata": {},
          "execution_count": 62
        }
      ]
    },
    {
      "cell_type": "code",
      "source": [
        "roc_auc_score(Y_credit_test, prev)"
      ],
      "metadata": {
        "colab": {
          "base_uri": "https://localhost:8080/"
        },
        "id": "5rAUcEFFegSn",
        "outputId": "45af191f-d447-4697-cd84-fbf50619bb7c"
      },
      "execution_count": 64,
      "outputs": [
        {
          "output_type": "execute_result",
          "data": {
            "text/plain": [
              "0.7045786215828266"
            ]
          },
          "metadata": {},
          "execution_count": 64
        }
      ]
    },
    {
      "cell_type": "code",
      "source": [
        "fpr, tpr, thresholds = roc_curve(Y_credit_test, prev)\n",
        "\n",
        "# Print ROC curve\n",
        "plt.plot(fpr,tpr)\n",
        "plt.show() \n",
        "\n",
        "# Print AUC\n",
        "auc = np.trapz(tpr,fpr)\n",
        "print('AUC:', auc)"
      ],
      "metadata": {
        "colab": {
          "base_uri": "https://localhost:8080/",
          "height": 364
        },
        "id": "-qqiVLjVfr_g",
        "outputId": "1d1101b9-e35a-48eb-e0b7-d4306a598371"
      },
      "execution_count": 68,
      "outputs": [
        {
          "output_type": "display_data",
          "data": {
            "image/png": "[encoded data removed]",
            "text/plain": [
              "<Figure size 576x396 with 1 Axes>"
            ]
          },
          "metadata": {}
        },
        {
          "output_type": "stream",
          "name": "stdout",
          "text": [
            "AUC: 0.7045786215828266\n"
          ]
        }
      ]
    }
  ]
}