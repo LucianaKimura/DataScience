{
  "nbformat": 4,
  "nbformat_minor": 0,
  "metadata": {
    "colab": {
      "name": "Credito_Algorithms_DT.ipynb",
      "provenance": [],
      "mount_file_id": "1KB0E-4LOfWPb0g-cTMxVMpFXnsIwiQS5",
      "authorship_tag": "ABX9TyM3gGZIfTkUCG9TvCozSj0l",
      "include_colab_link": true
    },
    "kernelspec": {
      "name": "python3",
      "display_name": "Python 3"
    },
    "language_info": {
      "name": "python"
    }
  },
  "cells": [
    {
      "cell_type": "markdown",
      "metadata": {
        "id": "view-in-github",
        "colab_type": "text"
      },
      "source": [
        "<a href=\"https://colab.research.google.com/github/LucianaKimura/DataScience-CreditDB/blob/main/Credito_Algorithms_DT.ipynb\" target=\"_parent\"><img src=\"https://colab.research.google.com/assets/colab-badge.svg\" alt=\"Open In Colab\"/></a>"
      ]
    },
    {
      "cell_type": "code",
      "execution_count": 1,
      "metadata": {
        "colab": {
          "base_uri": "https://localhost:8080/"
        },
        "id": "VH20OFtbUWbR",
        "outputId": "f9fe606c-6b8d-4a58-a6a1-a51c791481eb"
      },
      "outputs": [
        {
          "output_type": "stream",
          "name": "stdout",
          "text": [
            "Requirement already satisfied: plotly in /usr/local/lib/python3.7/dist-packages (4.4.1)\n",
            "Collecting plotly\n",
            "  Downloading plotly-5.5.0-py2.py3-none-any.whl (26.5 MB)\n",
            "\u001b[K     |████████████████████████████████| 26.5 MB 1.7 MB/s \n",
            "\u001b[?25hCollecting tenacity>=6.2.0\n",
            "  Downloading tenacity-8.0.1-py3-none-any.whl (24 kB)\n",
            "Requirement already satisfied: six in /usr/local/lib/python3.7/dist-packages (from plotly) (1.15.0)\n",
            "Installing collected packages: tenacity, plotly\n",
            "  Attempting uninstall: plotly\n",
            "    Found existing installation: plotly 4.4.1\n",
            "    Uninstalling plotly-4.4.1:\n",
            "      Successfully uninstalled plotly-4.4.1\n",
            "Successfully installed plotly-5.5.0 tenacity-8.0.1\n"
          ]
        }
      ],
      "source": [
        "!pip install plotly --upgrade"
      ]
    },
    {
      "cell_type": "code",
      "source": [
        "import pandas as pd\n",
        "import numpy as np\n",
        "import seaborn as sns\n",
        "import matplotlib.pyplot as plt\n",
        "import plotly.express as px"
      ],
      "metadata": {
        "id": "A4SGUbCYUcUE"
      },
      "execution_count": 2,
      "outputs": []
    },
    {
      "cell_type": "code",
      "source": [
        "import pickle"
      ],
      "metadata": {
        "id": "1KlRxSa3U3pl"
      },
      "execution_count": 4,
      "outputs": []
    },
    {
      "cell_type": "code",
      "source": [
        "with open('/content/drive/MyDrive/Colab Notebooks/Dados Pre-Processados/credit.pkl', mode = 'rb') as f:\n",
        "  X_credit_train, Y_credit_train, X_credit_test, Y_credit_test = pickle.load(f)"
      ],
      "metadata": {
        "id": "BglH26sMUqGo"
      },
      "execution_count": 5,
      "outputs": []
    },
    {
      "cell_type": "markdown",
      "source": [
        "Importing the pre-processed data. Using the pickle library the data already is in the right shape. ⬆"
      ],
      "metadata": {
        "id": "SOdnR4GAWCru"
      }
    },
    {
      "cell_type": "code",
      "source": [
        "X_credit_test.shape"
      ],
      "metadata": {
        "colab": {
          "base_uri": "https://localhost:8080/"
        },
        "id": "HUjDxT70ViR5",
        "outputId": "b1c16264-5567-4ebb-8697-2f4fb6483288"
      },
      "execution_count": 6,
      "outputs": [
        {
          "output_type": "execute_result",
          "data": {
            "text/plain": [
              "(8142, 25)"
            ]
          },
          "metadata": {},
          "execution_count": 6
        }
      ]
    },
    {
      "cell_type": "code",
      "source": [
        "Y_credit_test.shape"
      ],
      "metadata": {
        "colab": {
          "base_uri": "https://localhost:8080/"
        },
        "id": "5CjPZyAeVlPt",
        "outputId": "5138764a-2575-45be-8070-86396e9952e8"
      },
      "execution_count": 7,
      "outputs": [
        {
          "output_type": "execute_result",
          "data": {
            "text/plain": [
              "(8142,)"
            ]
          },
          "metadata": {},
          "execution_count": 7
        }
      ]
    },
    {
      "cell_type": "markdown",
      "source": [
        "# Decision Tree"
      ],
      "metadata": {
        "id": "aoBqAi8OV1B4"
      }
    },
    {
      "cell_type": "markdown",
      "source": [
        "- A decision tree is a decision support tool that uses a tree-like model of decisions and their possible consequences, including chance event outcomes, resource costs, and utility. It is one way to display an algorithm that only contains conditional control statements.\n",
        "- A decision tree is a simple representation for classifying examples. A decision tree or a classification tree is a tree in which each internal (non-leaf) node is labeled with an input feature. The arcs coming from a node labeled with an input feature are labeled with each of the possible values of the target feature or the arc leads to a subordinate decision node on a different input feature. Each leaf of the tree is labeled with a class or a probability distribution over the classes, signifying that the data set has been classified by the tree into either a specific class, or into a particular probability distribution (which, if the decision tree is well-constructed, is skewed towards certain subsets of classes).\n",
        "  - Source: https://en.wikipedia.org/wiki/Decision_tree_learning"
      ],
      "metadata": {
        "id": "z73al2o1WSlV"
      }
    },
    {
      "cell_type": "markdown",
      "source": [
        "It uses the concepts:\n",
        "- Entropy - average level of \"information\", \"surprise\", or \"uncertainty\" inherent to the variable's possible outcomes. Entropy measures the expected (i.e., average) amount of information conveyed by identifying the outcome of a random trial. This implies that casting a die has higher entropy than tossing a coin because each outcome of a die toss has smaller probability (p=1/6) than each outcome of a coin toss (p=1/2).\n",
        "- Information gain - the formula is: Entropy of the class, minus the sum of the multiplication of the probability of each possibel outcome of the variable with the entropy of each predictor class. The higher the value the more important the predictor. Information gain is used to decide which feature to split on at each step in building the tree."
      ],
      "metadata": {
        "id": "2eFiHmVMZYGi"
      }
    },
    {
      "cell_type": "markdown",
      "source": [
        "- Pros:\n",
        "  - Simple to understand and interpret.\n",
        "  - Able to handle both numerical and categorical data\n",
        "  - Requires little data preparation. Other techniques often require data normalization. Since trees can handle qualitative predictors, there is no need to create dummy variables.\n",
        "  - Possible to validate a model using statistical tests. That makes it possible to account for the reliability of the model.\n",
        "  - Non-parametric approach that makes no assumptions of the training data or prediction residuals; e.g., no distributional, independence, or constant variance assumptions\n",
        "  - Performs well with large datasets. \n",
        "  - Mirrors human decision making more closely than other approaches.This could be useful when modeling human decisions/behavior.\n",
        "- Cons:\n",
        "  - Trees can be very non-robust. A small change in the training data can result in a large change in the tree and consequently the final predictions.\n",
        "  - The problem of learning an optimal decision tree is known to be NP-complete under several aspects of optimality and even for simple concepts. Consequently, practical decision-tree learning algorithms are based on heuristics such as the greedy algorithm where locally optimal decisions are made at each node. Such algorithms cannot guarantee to return the globally optimal decision tree.\n",
        "  - For data including categorical variables with different numbers of levels, information gain in decision trees is biased in favor of attributes with more levels."
      ],
      "metadata": {
        "id": "e4p-c2hSeE-S"
      }
    },
    {
      "cell_type": "code",
      "source": [
        "from sklearn.tree import DecisionTreeClassifier"
      ],
      "metadata": {
        "id": "1PtjDMBkgGNE"
      },
      "execution_count": 8,
      "outputs": []
    },
    {
      "cell_type": "code",
      "source": [
        "dt_credit = DecisionTreeClassifier(criterion='entropy', random_state = 0)\n",
        "dt_credit.fit(X_credit_train, Y_credit_train)"
      ],
      "metadata": {
        "colab": {
          "base_uri": "https://localhost:8080/"
        },
        "id": "BT2iwOLlg_gk",
        "outputId": "d6463520-b1ca-4a8b-8e26-421dc2d36623"
      },
      "execution_count": 10,
      "outputs": [
        {
          "output_type": "execute_result",
          "data": {
            "text/plain": [
              "DecisionTreeClassifier(criterion='entropy', random_state=0)"
            ]
          },
          "metadata": {},
          "execution_count": 10
        }
      ]
    },
    {
      "cell_type": "code",
      "source": [
        "prev = dt_credit.predict(X_credit_test)\n",
        "prev"
      ],
      "metadata": {
        "colab": {
          "base_uri": "https://localhost:8080/"
        },
        "id": "X-81RyRohM6A",
        "outputId": "f67e4dd8-62f2-4178-83c4-f60592223f98"
      },
      "execution_count": 11,
      "outputs": [
        {
          "output_type": "execute_result",
          "data": {
            "text/plain": [
              "array([1., 0., 0., ..., 1., 0., 0.])"
            ]
          },
          "metadata": {},
          "execution_count": 11
        }
      ]
    },
    {
      "cell_type": "code",
      "source": [
        "Y_credit_test"
      ],
      "metadata": {
        "colab": {
          "base_uri": "https://localhost:8080/"
        },
        "id": "KWOO4zrdhfHQ",
        "outputId": "00180a75-0bd1-43dd-f6d6-0dedcbea9056"
      },
      "execution_count": 12,
      "outputs": [
        {
          "output_type": "execute_result",
          "data": {
            "text/plain": [
              "array([1., 0., 1., ..., 1., 0., 0.])"
            ]
          },
          "metadata": {},
          "execution_count": 12
        }
      ]
    },
    {
      "cell_type": "code",
      "source": [
        "from sklearn.metrics import accuracy_score, classification_report"
      ],
      "metadata": {
        "id": "-srnPHlwhiPJ"
      },
      "execution_count": 13,
      "outputs": []
    },
    {
      "cell_type": "code",
      "source": [
        "accuracy_score(Y_credit_test, prev)"
      ],
      "metadata": {
        "colab": {
          "base_uri": "https://localhost:8080/"
        },
        "id": "w6V1ZxoYhp7m",
        "outputId": "7e32fbbf-3813-4fa4-aa6a-3e425434f13b"
      },
      "execution_count": 14,
      "outputs": [
        {
          "output_type": "execute_result",
          "data": {
            "text/plain": [
              "0.8851633505281258"
            ]
          },
          "metadata": {},
          "execution_count": 14
        }
      ]
    },
    {
      "cell_type": "code",
      "source": [
        "from yellowbrick.classifier import ConfusionMatrix\n",
        "cm = ConfusionMatrix(dt_credit)\n",
        "cm.fit(X_credit_train , Y_credit_train)\n",
        "cm.score(X_credit_test , Y_credit_test)"
      ],
      "metadata": {
        "colab": {
          "base_uri": "https://localhost:8080/",
          "height": 371
        },
        "id": "BiWLGer3hzTJ",
        "outputId": "450b39cc-c34b-4d16-c0ba-bc4178006c58"
      },
      "execution_count": 15,
      "outputs": [
        {
          "output_type": "execute_result",
          "data": {
            "text/plain": [
              "0.8851633505281258"
            ]
          },
          "metadata": {},
          "execution_count": 15
        },
        {
          "output_type": "display_data",
          "data": {
            "image/png": "[encoded data removed]",
            "text/plain": [
              "<Figure size 576x396 with 1 Axes>"
            ]
          },
          "metadata": {}
        }
      ]
    },
    {
      "cell_type": "code",
      "source": [
        "print(classification_report(Y_credit_test, prev))"
      ],
      "metadata": {
        "colab": {
          "base_uri": "https://localhost:8080/"
        },
        "id": "8hjRxYm2iIYK",
        "outputId": "6bb429ab-c6c3-4ecc-dba8-52c4a53b1054"
      },
      "execution_count": 16,
      "outputs": [
        {
          "output_type": "stream",
          "name": "stdout",
          "text": [
            "              precision    recall  f1-score   support\n",
            "\n",
            "         0.0       0.93      0.92      0.93      6443\n",
            "         1.0       0.72      0.74      0.73      1699\n",
            "\n",
            "    accuracy                           0.89      8142\n",
            "   macro avg       0.82      0.83      0.83      8142\n",
            "weighted avg       0.89      0.89      0.89      8142\n",
            "\n"
          ]
        }
      ]
    }
  ]
}